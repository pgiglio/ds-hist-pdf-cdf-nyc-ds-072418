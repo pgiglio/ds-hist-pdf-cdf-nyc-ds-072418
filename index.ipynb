{
 "cells": [
  {
   "cell_type": "markdown",
   "metadata": {},
   "source": [
    "# The Normal or Gaussian Distribution\n",
    "\n",
    "## Background and Motivations\n",
    "Certainly you've heard of the normal distribution! It is certainly the most important and commonly used. Many variables tend to be normally distributed and in practice unknown quantities are often modelled as normal distributions. By the **central limit theorem** combining many random distributions also converges to the normal distribution. That is, as we continue to sample from independent random distributions, our results will more and more closely resemble the normal distribution as time goes on. There are certain mathematical assumptions that must be held in order for this to be true (an important one being an assumption of independence) but the results nonetheless often hold true and help explain why the normal distribution is so often observed in the real world.\n",
    "\n",
    "## 68–95–99.7 rule\n",
    "There is also the handy empiricial rule which gives you general cumulative percentages for the probability encompassed by data within 1, 2 and 3 standard deviations of the mean. For example, roughly 68% of the population should fall within the mean height, plus or minus 1 standard deviation. Similarly, 95% of the population should be within 2 standard deviations of the mean, and 99.7% within 3 standard deviations.\n",
    "\n",
    "![](./images/normal_distro.png)\n",
    "\n",
    "## Mathematical Definition\n",
    "\n",
    "$f(x)=\\frac{1}{\\sqrt{2\\pi}\\sigma}e^{-\\frac{1}{2}(\\frac{x-\\mu}{\\sigma})^2}$\n",
    "\n",
    "where $\\mu$ is the mean and $\\sigma^2$ is the variance.\n",
    "\n",
    "You may also frequently here of **standard normal distribution** which has a **$\\mu=0$** and **$\\sigma^2=1$**.\n",
    "\n",
    "## Z Scores\n",
    "Z scores tell us how many standard deviations is from the mean. Using the empirical 68-95-99.7 rule above, a Z score of 3 would mean that an observation was indeed very rare on on the far right hand tail of a distribution. (Assuming the distribution is positive.)"
   ]
  },
  {
   "cell_type": "markdown",
   "metadata": {},
   "source": [
    "<center><img src='The_Normal_Distribution.png'>\n",
    "[image source](http://www.statisticshowto.com/probability-and-statistics/hypothesis-testing/t-score-vs-z-score/)</center>"
   ]
  },
  {
   "cell_type": "markdown",
   "metadata": {},
   "source": [
    "### Calculating a Z-score\n",
    "\n",
    "Recall that the formula for calculating a Z-score for a given value is: \n",
    "\n",
    "<center><img src='z-score-formula.png'></center>\n",
    "\n",
    "Where:\n",
    "\n",
    "$x = value$\n",
    "\n",
    "$\\mu = Population\\ Mean$\n",
    "\n",
    "$\\sigma = Population\\ Standard\\ Deviation$ \n",
    "\n",
    "In the cell below, write a function that takes in an array of data and a value and returns the z-score for that value.  "
   ]
  },
  {
   "cell_type": "code",
   "execution_count": null,
   "metadata": {},
   "outputs": [],
   "source": [
    "# Run this cell to import everything we'll need for this lab\n",
    "import numpy as np\n",
    "import scipy\n",
    "import matplotlib.pyplot as plt\n",
    "%matplotlib inline\n",
    "import seaborn as sns\n",
    "# Do not change the random seed, or you'll break things!\n",
    "np.random.seed(0)"
   ]
  },
  {
   "cell_type": "code",
   "execution_count": 3,
   "metadata": {},
   "outputs": [],
   "source": [
    "def calculate_z_score_from_data(data, value):\n",
    "    pass\n",
    "\n",
    "test1 = np.random.normal(5, 3, 10)\n",
    "print(calculate_z_score_from_data(test1, 5)) # -0.7631465574632231\n",
    "print(calculate_z_score_from_data(test1, 1)) # -2.14186850501324"
   ]
  }
 ],
 "metadata": {
  "kernelspec": {
   "display_name": "Python 3",
   "language": "python",
   "name": "python3"
  },
  "language_info": {
   "codemirror_mode": {
    "name": "ipython",
    "version": 3
   },
   "file_extension": ".py",
   "mimetype": "text/x-python",
   "name": "python",
   "nbconvert_exporter": "python",
   "pygments_lexer": "ipython3",
   "version": "3.6.4"
  }
 },
 "nbformat": 4,
 "nbformat_minor": 2
}
